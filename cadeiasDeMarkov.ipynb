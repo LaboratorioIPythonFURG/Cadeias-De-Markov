{
 "cells": [
  {
   "cell_type": "markdown",
   "metadata": {
    "id": "ubQfWgIDhU6V"
   },
   "source": [
    "## Cadeias de Markov\n",
    "_(Fonte: C. LAY, David. Linear Algebra: and Its Applications. 4. ed. Boston: Addison-Wesley, 2012. v. 1. ISBN 978-0-321-38517-8.)_\n",
    "     \n",
    "\n",
    "\n",
    " As variáveis de um sistema podem ser medidas em um intervalo discreto de tempo produzindo vetores de informações $x_0, x_1, x_2, ...$.  As entradas em $x_k$ fornecem informação sobre o estado do sistema no tempo $k$ de medida.\n",
    "\n",
    " A matriz $M$ é a matriz de transformação de um vetor $X_k$ em $X_{k+1}$\n",
    "\n",
    "\n",
    " Se uma matriz $M$ tal que $x_1=Ax_0, x_2=Ax_1$, em geral:\n",
    "\n",
    "\\\n",
    " $$\n",
    " x_{k+1}=Ax_k\\\\\n",
    " \\\\\n",
    " para\\\\\n",
    " k = 0, 1, 2, ...\n",
    " $$\n"
   ]
  },
  {
   "cell_type": "markdown",
   "metadata": {
    "id": "_FKTI1cxJSOo"
   },
   "source": [
    "## Problema \n",
    "\n",
    "Sabendo que a população do centro nos anos $2000$ era de $600000$ habitantes e do subúrbio $400000$. Qual será a previsão para o ano de $2002$?\n",
    "\n",
    "Já que, \n",
    "\n",
    "$$\n",
    "x_{k+1} = Mx_k\n",
    "$$\n",
    "Ou, \n",
    "$$\n",
    "x_{k+1}M^{-1}=x_k\n",
    "$$\n",
    "Sabendo que $x_k$ são os dados da primeira medida. Ou,\n",
    "$$\n",
    "x_k =  \n",
    "\\begin{bmatrix}\n",
    "600000\\\\\n",
    "400000\n",
    "\\end{bmatrix}\n",
    "$$\n",
    "E a matrix de transformação é a porcentagem de migração. Ou, \n",
    "$$\n",
    "M=\n",
    "\\begin{bmatrix}\n",
    ".95 & .03 \\\\\n",
    ".05 & .97\n",
    "\\end{bmatrix}\n",
    "$$\n"
   ]
  },
  {
   "cell_type": "code",
   "execution_count": 7,
   "metadata": {
    "colab": {
     "base_uri": "https://localhost:8080/"
    },
    "executionInfo": {
     "elapsed": 14,
     "status": "ok",
     "timestamp": 1674160529557,
     "user": {
      "displayName": "Luis Fernandes",
      "userId": "08023085261761721654"
     },
     "user_tz": 180
    },
    "id": "TaIrtMa-fqV3",
    "outputId": "b117dbb5-9a2b-4eb6-e934-f7575c493b80"
   },
   "outputs": [
    {
     "name": "stdout",
     "output_type": "stream",
     "text": [
      "A população do centro em 2001 será de:[582000.]\n",
      "A população do subúrbio em 2001 será de:[418000.]\n",
      "A população do centro em 2002 será de:[565440.]\n",
      "A população do subúrbio em 2002 será de:[434560.]\n",
      "\n"
     ]
    }
   ],
   "source": [
    "##importar bibliotecas\n",
    "from numpy import *\n",
    "\n",
    "##definir x0\n",
    "x0 = array([[600000], [400000]])\n",
    "\n",
    "##definir matriz de migração\n",
    "M = array([[0.95, 0.03], [0.05, 0.97]])\n",
    "\n",
    "x1 = linalg.solve(linalg.inv(M), x0)\n",
    "\n",
    "x2 = linalg.solve(linalg.inv(M), x1)\n",
    "  \n",
    "print(f\"A população do centro em 2001 será de:{x1[0]}\\nA população do subúrbio em 2001 será de:{x1[1]}\\nA população do centro em 2002 será de:{x2[0]}\\nA população do subúrbio em 2002 será de:{x2[1]}\\n\")\n"
   ]
  },
  {
   "cell_type": "code",
   "execution_count": null,
   "metadata": {
    "id": "u-m3E43kvlyO"
   },
   "outputs": [],
   "source": []
  }
 ],
 "metadata": {
  "colab": {
   "authorship_tag": "ABX9TyPpDpjK1Yx1aJ0ZdTTkU3Wp",
   "provenance": []
  },
  "kernelspec": {
   "display_name": "Python 3 (ipykernel)",
   "language": "python",
   "name": "python3"
  },
  "language_info": {
   "codemirror_mode": {
    "name": "ipython",
    "version": 3
   },
   "file_extension": ".py",
   "mimetype": "text/x-python",
   "name": "python",
   "nbconvert_exporter": "python",
   "pygments_lexer": "ipython3",
   "version": "3.9.13"
  }
 },
 "nbformat": 4,
 "nbformat_minor": 1
}
