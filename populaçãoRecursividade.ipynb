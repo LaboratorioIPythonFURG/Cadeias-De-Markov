{
  "nbformat": 4,
  "nbformat_minor": 0,
  "metadata": {
    "colab": {
      "provenance": []
    },
    "kernelspec": {
      "name": "python3",
      "display_name": "Python 3"
    },
    "language_info": {
      "name": "python"
    }
  },
  "cells": [
    {
      "cell_type": "markdown",
      "source": [
        "## Equação linear recursiva\n",
        "_(Fonte: C. LAY, David. Linear Algebra: and Its Applications. 4. ed. Boston: Addison-Wesley, 2012. v. 1. ISBN 978-0-321-38517-8.)_\n",
        "\n",
        " Em muitos campos da Ciência, tais como Ecologia, Economia e Engenharia é preciso definir modelos matemáticos utilizando sistemas dinâmicos que mudam com o tempo. Muitas das variáveis desses sistemas podem ser medidas em um intervalo de tempo discreto produzindo uma sequência de vetores $x_0, x_1, x_2, ...$. As entradas $x_k$ fornecem informações sobre o estado do sistema no tempo $k$ de medida.\n",
        "\n",
        " Seja uma matriz $A$, tal que $x_1=Ax_0$, $x_2=Ax_1$, ou seja, de um modo geral:\n",
        "\n",
        "\\\n",
        " $$\n",
        " x_{k+1}=Ax_k\\\\\n",
        " \\\\\n",
        " k = 0, 1, 2, ...\n",
        " $$\n"
      ],
      "metadata": {
        "id": "ubQfWgIDhU6V"
      }
    },
    {
      "cell_type": "markdown",
      "source": [
        "## Problema \n",
        "\n",
        "Sabendo que $s_0$ é a população inicial no centro e $r_0$ a do subúbio\n",
        "$$\n",
        "x_0=\n",
        "\\begin{bmatrix}\n",
        "r_0\\\\\n",
        "s_0\n",
        "\\end{bmatrix}\n",
        "$$\n",
        "e que a estimativa é que 5% da polpoulação do centro se mova para o subúrbio\n",
        "$$\n",
        "\\begin{bmatrix}\n",
        ".95r_0\\\\\n",
        ".05r_0\n",
        "\\end{bmatrix}\n",
        "=\n",
        "r_0\n",
        "\\begin{bmatrix}\n",
        ".95\\\\\n",
        ".05\n",
        "\\end{bmatrix}\n",
        "$$\n",
        "e que a população do subúrbio para o centro\n",
        "$$\n",
        "\\begin{bmatrix}\n",
        ".97s_0\\\\\n",
        ".03s_0\n",
        "\\end{bmatrix}\n",
        "=\n",
        "s_0\n",
        "\\begin{bmatrix}\n",
        ".97\\\\\n",
        ".03\n",
        "\\end{bmatrix}\n",
        "$$\n",
        "Logo,\n",
        "$$\n",
        "\\left[\\begin{array}{l}\n",
        "r_1 \\\\\n",
        "s_1\n",
        "\\end{array}\\right]=r_0\\left[\\begin{array}{l}\n",
        ".95 \\\\\n",
        ".05\n",
        "\\end{array}\\right]+s_0\\left[\\begin{array}{l}\n",
        ".03 \\\\\n",
        ".97\n",
        "\\end{array}\\right]=\\left[\\begin{array}{ll}\n",
        ".95 & .03 \\\\\n",
        ".05 & .97\n",
        "\\end{array}\\right]\\left[\\begin{array}{l}\n",
        "r_0 \\\\\n",
        "s_0\n",
        "\\end{array}\\right]\n",
        "$$\n",
        "Assim, \n",
        "$$\n",
        "x_k=A  x_{k+1}\n",
        "$$\n",
        "Ou, \n",
        "$$\n",
        "x_kA^{-1}=x_{k+1}\n",
        "$$\n",
        "Sabendo que a população do centro nos anos $2000$ era de $600000$ habitantes e do subúrbio $400000$. Qual será a previsão para o ano de $2002$?"
      ],
      "metadata": {
        "id": "_FKTI1cxJSOo"
      }
    },
    {
      "cell_type": "code",
      "execution_count": 2,
      "metadata": {
        "colab": {
          "base_uri": "https://localhost:8080/",
          "height": 0
        },
        "id": "TaIrtMa-fqV3",
        "outputId": "1567f736-2eec-483d-d5af-1edef3bd7a01"
      },
      "outputs": [
        {
          "output_type": "stream",
          "name": "stdout",
          "text": [
            "A matriz da população cidade e subúrbio para 2001:[[582000.]\n",
            " [418000.]]\n",
            "A matriz da população cidade e subúrbio para 2002:[[565440.]\n",
            " [434560.]]\n"
          ]
        }
      ],
      "source": [
        "##importar bibliotecas\n",
        "import numpy as np\n",
        "import scipy\n",
        "\n",
        "##definir x0\n",
        "x0 = np.array([[600000], [400000]])\n",
        "\n",
        "##definir matriz de migração\n",
        "A = np.array([[0.95, 0.03], [0.05, 0.97]])\n",
        "\n",
        "x1 = np.linalg.solve(np.linalg.inv(A), x0)\n",
        "\n",
        "x2 = np.linalg.solve(np.linalg.inv(A), x1)\n",
        "  \n",
        "print(f\"A matriz da população centro e subúrbio para 2001:{x1}\\nA matriz da população centro e subúrbio para 2002:{x2}\")\n"
      ]
    }
  ]
}
